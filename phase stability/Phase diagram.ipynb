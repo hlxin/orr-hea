{
 "cells": [
  {
   "cell_type": "code",
   "execution_count": 1,
   "metadata": {},
   "outputs": [],
   "source": [
    "#Load python libraries\n",
    "\n",
    "import pandas as pd\n",
    "import numpy as np\n",
    "import numpy as np\n",
    "import matplotlib.pyplot as plt\n",
    "import re\n",
    "from pylab import *"
   ]
  },
  {
   "cell_type": "code",
   "execution_count": 2,
   "metadata": {},
   "outputs": [],
   "source": [
    "#Load data\n",
    "\n",
    "df = pd.read_csv('compound_data.csv')\n",
    "y = np.array(df['Structure'])\n",
    "alloy_names = list(df['Alloys'])[:44]\n",
    "df.drop(['Alloys', 'Structure', 'Tm'],axis=1,inplace=True)\n",
    "X = df.values\n",
    "\n",
    "element_properties_data = pd.read_csv(\"element_properties.csv\")\n",
    "delta_H_data = pd.read_csv(\"element_H.csv\")\n",
    "element_properties_data_df = pd.DataFrame(element_properties_data)\n",
    "delta_H_data_df = pd.DataFrame(delta_H_data)\n",
    "element_properties_data_df.set_index([\"element\"], inplace=True)\n",
    "delta_H_data_df.set_index([\"element\"], inplace=True)"
   ]
  },
  {
   "cell_type": "code",
   "execution_count": 3,
   "metadata": {},
   "outputs": [],
   "source": [
    "#Compute VEC\n",
    "\n",
    "VEC_list = []\n",
    "\n",
    "for alloy_string in alloy_names:\n",
    "\n",
    "    ee = re.findall('[A-Z][a-z]?', alloy_string)\n",
    "    aa = re.findall('[A-Z][a-z]?|[0.0-99.9]+', alloy_string)\n",
    "    cc = []\n",
    "    for i in range(len(aa)):\n",
    "        if aa[i] in ee:\n",
    "            if i+1 < len(aa):\n",
    "                if aa[i+1] in ee:\n",
    "                    cc.append(1)\n",
    "                elif aa[i+1] not in ee:\n",
    "                    cc.append(float(aa[i+1]))\n",
    "            elif i+1 == len(aa):\n",
    "                cc.append(1)            \n",
    "    ele_list = ee\n",
    "    con_array = np.array(cc)\n",
    "    con_array = con_array/con_array.sum()\n",
    "    VEC_array = np.array([element_properties_data_df.loc[ele_list[i],'VEC'] for i in range(len(ele_list))])\n",
    "    avg_VEC = np.array([con_array[i]*VEC_array[i] for i in range(len(ele_list))]).sum()\n",
    "    VEC_list.append(avg_VEC)"
   ]
  },
  {
   "cell_type": "code",
   "execution_count": 4,
   "metadata": {},
   "outputs": [],
   "source": [
    "#Categorize data based on phases\n",
    "\n",
    "am_idx = np.where(y == 'am')[0]\n",
    "cp_idx = np.where(y == 'cp')[0]\n",
    "fcc_idx = np.where(y == 'FCC')[0]\n",
    "bcc_idx = np.where(y == 'BCC')[0]"
   ]
  },
  {
   "cell_type": "code",
   "execution_count": 5,
   "metadata": {},
   "outputs": [
    {
     "data": {
      "text/plain": [
       "Text(0, 0.5, '$\\\\Omega$')"
      ]
     },
     "execution_count": 5,
     "metadata": {},
     "output_type": "execute_result"
    },
    {
     "data": {
      "image/png": "[encoded data removed]",
      "text/plain": [
       "<Figure size 451.772x361.418 with 2 Axes>"
      ]
     },
     "metadata": {
      "needs_background": "light"
     },
     "output_type": "display_data"
    }
   ],
   "source": [
    "#Plot phase diagram\n",
    "\n",
    "symbols = ['s','o','^','v','<','>','+','x','D','d'] # Symbol\n",
    "lps = [k+'-' for k in ['o','^','v','<','>','s','+','x','D','d']] # Line + Symbol\n",
    "colors= ['b','r','g','c','m','y','k','w'] # Color\n",
    "ms = 4\n",
    "ew = 1.5\n",
    "rcParams['figure.figsize'] = 2.5*1.5*1.67323,2.0*1.5*1.67323\n",
    "rcParams['ps.useafm'] = True\n",
    "plt.rc('font',**{'family':'sans-serif','sans-serif':['Helvetica']})\n",
    "\n",
    "rcParams['pdf.fonttype'] = 42\n",
    "matplotlib.rc('xtick.major', size=6)\n",
    "matplotlib.rc('xtick.minor', size=3)\n",
    "matplotlib.rc('ytick.major', size=6)\n",
    "matplotlib.rc('ytick.minor', size=3)\n",
    "matplotlib.rc('lines', markeredgewidth=0.5*2)\n",
    "matplotlib.rc('font', size=7*2.0)\n",
    "\n",
    "ss = 60\n",
    "\n",
    "plt.scatter([list(df['delta'])[i] for i in bcc_idx],[list(df['omega'])[i] for i in bcc_idx],c='white',edgecolor='black',label='BCC solid solution',marker='s',s=ss)\n",
    "plt.scatter([list(df['delta'])[i] for i in fcc_idx],[list(df['omega'])[i] for i in fcc_idx],c='white',edgecolor='black',label='FCC solid solution',marker='o',s=ss)\n",
    "\n",
    "plt.scatter([list(df['delta'])[i] for i in bcc_idx],[list(df['omega'])[i] for i in bcc_idx],facecolors='None',edgecolor='black',marker='s',cmap = 'jet',c=VEC_list[:19],vmin=5.0,vmax=12.0,s=ss)\n",
    "plt.scatter([list(df['delta'])[i] for i in fcc_idx],[list(df['omega'])[i] for i in fcc_idx],facecolors='None',edgecolor='black',marker='o',cmap = 'jet',c=VEC_list[19:],vmin=5.0,vmax=12.0,s=ss)\n",
    "\n",
    "plt.scatter([4.66],[5.4],facecolors='None',edgecolor='black',marker='o',cmap = 'jet',c=[10],vmin=5.0,vmax=12.0,s=ss)\n",
    "\n",
    "cmap = plt.get_cmap('jet')\n",
    "norm = matplotlib.colors.Normalize(vmin=5.0,vmax=12.0)\n",
    "sm = plt.cm.ScalarMappable(cmap=cmap, norm=norm)\n",
    "sm.set_array([])\n",
    "plt.colorbar(sm, ticks=np.linspace(5,12,8),\n",
    "             boundaries=np.arange(5,13,1),\n",
    "             label='VEC')\n",
    "\n",
    "plt.scatter([list(df['delta'])[i] for i in cp_idx],[list(df['omega'])[i] for i in cp_idx],c='white',edgecolor='black',label='Intermetallics',marker='^',s=ss)\n",
    "plt.scatter([list(df['delta'])[i] for i in am_idx],[list(df['omega'])[i] for i in am_idx],c='white',edgecolor='black',label='Amorphous phase',marker='v',s=ss)\n",
    "\n",
    "plt.yscale(\"log\")\n",
    "\n",
    "plt.xticks([5,10,15])\n",
    "plt.yticks([1,10,100])\n",
    "\n",
    "plt.minorticks_on()\n",
    "\n",
    "plt.tick_params(axis=\"y\",direction=\"in\",which='both')\n",
    "plt.tick_params(axis=\"x\",direction=\"in\",which='both')\n",
    "\n",
    "plt.ylim([0.2,500])\n",
    "\n",
    "plt.legend(frameon=False,prop={'size': 10})\n",
    "plt.xlabel(r'$\\delta$ (%)')\n",
    "plt.ylabel(r'$\\Omega$')\n",
    "#plt.savefig('HR_plot_final_2024.pdf', format='pdf',transparent = True,dpi=600)"
   ]
  }
 ],
 "metadata": {
  "kernelspec": {
   "display_name": "Python 3",
   "language": "python",
   "name": "python3"
  },
  "language_info": {
   "codemirror_mode": {
    "name": "ipython",
    "version": 3
   },
   "file_extension": ".py",
   "mimetype": "text/x-python",
   "name": "python",
   "nbconvert_exporter": "python",
   "pygments_lexer": "ipython3",
   "version": "3.7.3"
  }
 },
 "nbformat": 4,
 "nbformat_minor": 2
}
