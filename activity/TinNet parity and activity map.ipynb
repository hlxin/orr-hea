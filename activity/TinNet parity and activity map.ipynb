{
 "cells": [
  {
   "cell_type": "code",
   "execution_count": 1,
   "metadata": {},
   "outputs": [],
   "source": [
    "#Load python libraries\n",
    "\n",
    "import pandas as pd\n",
    "import numpy as np\n",
    "from ase.io.trajectory import Trajectory\n",
    "import matplotlib.pyplot as plt\n",
    "from pylab import *\n",
    "from ase import io"
   ]
  },
  {
   "cell_type": "code",
   "execution_count": 2,
   "metadata": {},
   "outputs": [],
   "source": [
    "#Load data\n",
    "\n",
    "atoms = Trajectory('OH_structures.traj')\n",
    "DFT_energy = np.loadtxt('DFT_energies.txt')\n",
    "\n",
    "pure_idx = []\n",
    "\n",
    "for i in range(len(atoms)):\n",
    "    symbol_list = []\n",
    "    for j in range(16):\n",
    "        symbol_list.append(atoms[i][j].symbol)\n",
    "    final_list = list(set(symbol_list))\n",
    "    if len(final_list) == 1:\n",
    "        pure_idx.append(i)\n",
    "\n",
    "Er_dic = {}\n",
    "for i in pure_idx:\n",
    "    Er_dic[atoms[i][0].symbol] = DFT_energy[i]\n",
    "\n",
    "DATA_train = pd.read_csv('training_data.csv')\n",
    "index = DATA_train['index']\n",
    "TinNet_train = []\n",
    "DFT_train = []\n",
    "for i in range(len(index)):\n",
    "    idx = index[i]\n",
    "    symbol = atoms[idx][12].symbol\n",
    "    if symbol in Er_dic.keys():\n",
    "        TinNet_train.append(DATA_train['TinNet'][i]-Er_dic[symbol])\n",
    "        DFT_train.append(DATA_train['DFT'][i]-Er_dic[symbol])\n",
    "\n",
    "DATA_val = pd.read_csv('validation_data.csv')\n",
    "index = DATA_val['index']\n",
    "TinNet_val = []\n",
    "DFT_val = []\n",
    "for i in range(len(index)):\n",
    "    idx = index[i]\n",
    "    symbol = atoms[idx][12].symbol\n",
    "    if symbol in Er_dic.keys():\n",
    "        TinNet_val.append(DATA_val['TinNet'][i]-Er_dic[symbol])\n",
    "        DFT_val.append(DATA_val['DFT'][i]-Er_dic[symbol])\n",
    "\n",
    "        \n",
    "Er_dic_3x3 = {'Pd':-2.397405076, 'Cu':-2.563464069,'Pt':-2.250473022,'Ni':-2.579079437,'Co':-2.716785741}\n",
    "Er_dft_dic_3x3 = {'Pd':-2.129, 'Cu':-2.342,'Pt':-2.103,'Ni':-2.562,'Co':-2.638}\n",
    "\n",
    "site_list = ['Ni','Pd','Ni','Co','Pt','Ni','Co','Co','Cu','Ni','Ni','Ni','Pd','Pt','Ni','Pd','Ni','Co','Ni','Pt','Co','Cu','Pt','Pt']\n",
    "DFT_HEA = array([-2.73168425, -1.87895336, -2.30634746, -2.69262095, -2.20121901,\n",
    "                 -2.67996807, -2.80455865, -2.63037646, -2.77130231, -2.42178937,\n",
    "                 -2.67546409, -1.95856617, -2.65618605, -2.89175609, -2.58011146,\n",
    "                 -2.15694573, -2.74905388, -2.19110949, -2.32572461, -2.42961278])\n",
    "TinNet_HEA = array([-2.67188112, -2.25038079, -2.53280575, -2.67752017, -2.33157038,\n",
    "                   -2.61940353, -2.76576342, -2.68119209, -2.70810109, -2.28596005,\n",
    "                   -2.59182747, -2.31318676, -2.67088383, -2.68756156, -2.62615453,\n",
    "                   -2.36778722, -2.73882876, -2.54846555, -2.35383126, -2.44737486])\n",
    "\n",
    "TinNet_test = []\n",
    "DFT_test = []\n",
    "for i in range(len(TinNet_HEA)):\n",
    "    symbol = site_list[i]\n",
    "    if symbol in Er_dic_3x3.keys():\n",
    "        TinNet_test.append(TinNet_HEA[i]-Er_dic_3x3[symbol])\n",
    "        DFT_test.append(DFT_HEA[i]-Er_dft_dic_3x3[symbol])"
   ]
  },
  {
   "cell_type": "code",
   "execution_count": 3,
   "metadata": {},
   "outputs": [
    {
     "data": {
      "text/plain": [
       "([<matplotlib.axis.YTick at 0x11dde59e8>,\n",
       "  <matplotlib.axis.YTick at 0x11dde5630>,\n",
       "  <matplotlib.axis.YTick at 0x11ddd0b00>,\n",
       "  <matplotlib.axis.YTick at 0x11de9a898>,\n",
       "  <matplotlib.axis.YTick at 0x11de9ad30>,\n",
       "  <matplotlib.axis.YTick at 0x11dea3208>,\n",
       "  <matplotlib.axis.YTick at 0x11dea36a0>],\n",
       " [Text(0, 0, ''),\n",
       "  Text(0, 0, ''),\n",
       "  Text(0, 0, ''),\n",
       "  Text(0, 0, ''),\n",
       "  Text(0, 0, ''),\n",
       "  Text(0, 0, ''),\n",
       "  Text(0, 0, '')])"
      ]
     },
     "execution_count": 3,
     "metadata": {},
     "output_type": "execute_result"
    },
    {
     "data": {
      "image/png": "[encoded data removed]",
      "text/plain": [
       "<Figure size 289.134x361.418 with 1 Axes>"
      ]
     },
     "metadata": {
      "needs_background": "light"
     },
     "output_type": "display_data"
    }
   ],
   "source": [
    "#TinNet parity plots\n",
    "\n",
    "symbols = ['s','o','^','v','<','>','+','x','D','d'] # Symbol\n",
    "lps = [k+'-' for k in ['o','^','v','<','>','s','+','x','D','d']] # Line + Symbol\n",
    "colors= ['b','r','g','c','m','y','k','w'] # Color\n",
    "ms = 4\n",
    "ew = 1.5\n",
    "rcParams['figure.figsize'] = 1.6*1.5*1.67323,2.0*1.5*1.67323\n",
    "rcParams['ps.useafm'] = True\n",
    "plt.rc('font',**{'family':'sans-serif','sans-serif':['Helvetica']})\n",
    "mpl.rcParams['axes.linewidth'] = 1\n",
    "\n",
    "rcParams['pdf.fonttype'] = 42\n",
    "matplotlib.rc('xtick.major', size=6)\n",
    "matplotlib.rc('xtick.minor', size=3)\n",
    "matplotlib.rc('ytick.major', size=6)\n",
    "matplotlib.rc('ytick.minor', size=3)\n",
    "matplotlib.rc('lines', markeredgewidth=0.5*2)\n",
    "matplotlib.rc('font', size=7*2.0)\n",
    "\n",
    "fig, ax = plt.subplots()\n",
    "\n",
    "\n",
    "X = DFT_train\n",
    "y = TinNet_train\n",
    "\n",
    "ax.scatter(X,\n",
    "           y,\n",
    "           marker = 'o',\n",
    "           edgecolor = 'red',\n",
    "           facecolors='None',\n",
    "           linewidth = 0.5,\n",
    "           label = 'training     MAE: '+str(round(mean(abs(np.array(X)-np.array(y))),2))+' eV',\n",
    "           s = 12,\n",
    "           alpha = 1)\n",
    "\n",
    "\n",
    "XX = DFT_val\n",
    "yy = TinNet_val\n",
    "\n",
    "ax.scatter(XX,\n",
    "           yy,\n",
    "           marker = 'o',\n",
    "           edgecolor = 'blue',\n",
    "           facecolors='None',\n",
    "           linewidth = 0.5,\n",
    "           label = 'validation  MAE: '+str(round(mean(abs(np.array(XX)-np.array(yy))),2))+' eV',\n",
    "           s = 12,\n",
    "           alpha = 1)\n",
    "\n",
    "\n",
    "XXX = DFT_test\n",
    "yyy = TinNet_test\n",
    "\n",
    "ax.scatter(XXX,\n",
    "           yyy,\n",
    "           marker = 'o',\n",
    "           edgecolor = 'green',\n",
    "           facecolors='green',\n",
    "           linewidth = 0.5,\n",
    "           label = 'test (HEA)  MAE: '+str(round(mean(abs(np.array(XXX)-np.array(yyy))),2))+' eV',\n",
    "           s = 12,\n",
    "           alpha = 1)\n",
    "\n",
    "\n",
    "plt.plot([-4,2], [-4,2], color='gray', linestyle='--', linewidth=0.5)\n",
    "\n",
    "plt.legend(frameon=False,loc='upper left',prop={'size': 12})\n",
    "\n",
    "ax.set_xlabel(r'DFT-calculated $\\Delta\\Delta$E (eV)')\n",
    "ax.set_ylabel(r'TinNet-predicted $\\Delta\\Delta$E (eV)')\n",
    "\n",
    "plt.xlim([-4,2])\n",
    "plt.ylim([-4,2])\n",
    "\n",
    "plt.minorticks_on()\n",
    "plt.tick_params(axis=\"y\",direction=\"in\",which='both')\n",
    "plt.tick_params(axis=\"x\",direction=\"in\",which='both')\n",
    "\n",
    "plt.xticks([-4,-3,-2,-1,0,1,2])\n",
    "plt.yticks([-4,-3,-2,-1,0,1,2])\n",
    "\n",
    "\n",
    "#fig.savefig('tinnet_parity.pdf', bbox_inches='tight',dpi=300)"
   ]
  },
  {
   "cell_type": "code",
   "execution_count": 4,
   "metadata": {},
   "outputs": [
    {
     "data": {
      "text/plain": [
       "<matplotlib.legend.Legend at 0x11f1bcd30>"
      ]
     },
     "execution_count": 4,
     "metadata": {},
     "output_type": "execute_result"
    },
    {
     "data": {
      "image/png": "[encoded data removed]",
      "text/plain": [
       "<Figure size 451.772x361.418 with 2 Axes>"
      ]
     },
     "metadata": {
      "needs_background": "light"
     },
     "output_type": "display_data"
    }
   ],
   "source": [
    "#Activity map\n",
    "\n",
    "Eads_OH_Pt = 0.78\n",
    "\n",
    "Eads_OH = np.array(pd.read_csv(\"HEA_3x3_2000_TinNet.csv\")['avg']) - (-2.103)\n",
    "\n",
    "atoms = Trajectory('HEA_3x3_2000.traj')\n",
    "\n",
    "Pd_Eads = [Eads_OH[i] + 0.196169251 for i in range(len(atoms)) if atoms[i][31].symbol == 'Pd'] \n",
    "Cu_Eads = [Eads_OH[i] + 0.245393521 for i in range(len(atoms)) if atoms[i][31].symbol == 'Cu'] \n",
    "Pt_Eads = [Eads_OH[i] + 0.066902284 for i in range(len(atoms)) if atoms[i][31].symbol == 'Pt'] \n",
    "Ni_Eads = [Eads_OH[i] + 0.027749114 for i in range(len(atoms)) if atoms[i][31].symbol == 'Ni'] \n",
    "Co_Eads = [Eads_OH[i] - 0.03655449 for i in range(len(atoms)) if atoms[i][31].symbol == 'Co'] \n",
    "\n",
    "totrate_list = []\n",
    "for Eads_OH_ in list(np.linspace(0,1.2,1000)):\n",
    "    Eads_OH_ = np.array([Eads_OH_]*2000)\n",
    "    eU = 0.78\n",
    "    GO2 = 4.92\n",
    "    totrate = 0\n",
    "    for i in range(len(Eads_OH_)):\n",
    "        GOH = Eads_OH_[i] \n",
    "        GOOH = GOH + 3.2\n",
    "        GO = 2*GOH\n",
    "        dG1 = GOOH - GO2 + eU\n",
    "        dG2 = GO - GOOH + eU\n",
    "        dG3 = GOH - GO + eU\n",
    "        dG4 = -GOH + eU\n",
    "        dG = np.max([dG1,dG2,dG3,dG4])\n",
    "        totrate += math.exp(-dG/(8.62E-05*300))\n",
    "    totrate_list.append(totrate)\n",
    "\n",
    "\n",
    "symbols = ['s','o','^','v','<','>','+','x','D','d'] # Symbol\n",
    "lps = [k+'-' for k in ['o','^','v','<','>','s','+','x','D','d']] # Line + Symbol\n",
    "colors= ['b','r','g','c','m','y','k','w'] # Color\n",
    "ms = 4\n",
    "ew = 1.5\n",
    "rcParams['figure.figsize'] = 2.5*1.5*1.67323,2.0*1.5*1.67323\n",
    "rcParams['ps.useafm'] = True\n",
    "plt.rc('font',**{'family':'sans-serif','sans-serif':['Helvetica']})\n",
    "\n",
    "rcParams['pdf.fonttype'] = 42\n",
    "matplotlib.rc('xtick.major', size=6)\n",
    "matplotlib.rc('xtick.minor', size=3)\n",
    "matplotlib.rc('ytick.major', size=6)\n",
    "matplotlib.rc('ytick.minor', size=3)\n",
    "matplotlib.rc('lines', markeredgewidth=0.5*2)\n",
    "matplotlib.rc('font', size=7*2.0)\n",
    "\n",
    "fig, ax1 = plt.subplots()\n",
    "ax2 = ax1.twinx()\n",
    "\n",
    "ax2.plot(np.linspace(0,1.2,1000) - Eads_OH_Pt, log(np.array(totrate_list)/2000),color='red',linewidth = 1)\n",
    "\n",
    "all_data = np.concatenate([Pd_Eads, Cu_Eads, Pt_Eads, Ni_Eads, Co_Eads])\n",
    "global_min = np.min(all_data)\n",
    "global_max = np.max(all_data)\n",
    "\n",
    "num_bins = 100\n",
    "bin_edges = np.linspace(global_min, global_max, num_bins + 1)\n",
    "\n",
    "ax1.hist(Pd_Eads+Cu_Eads+Pt_Eads+Ni_Eads+Co_Eads,bins=bin_edges,label = 'Total',alpha = 0.8,color='lightgray')\n",
    "\n",
    "ax1.hist(Pd_Eads, bins=bin_edges, label='Pd', alpha=0.8, color='steelblue')\n",
    "ax1.hist(Cu_Eads, bins=bin_edges, label='Cu', alpha=0.8, color='goldenrod')\n",
    "ax1.hist(Pt_Eads, bins=bin_edges, label='Pt', alpha=0.8, color='gray')\n",
    "ax1.hist(Ni_Eads, bins=bin_edges, label='Ni', alpha=0.8, color='lime')\n",
    "ax1.hist(Co_Eads, bins=bin_edges, label='Co', alpha=0.8, color='violet')\n",
    "\n",
    "\n",
    "ax1.minorticks_on()\n",
    "ax2.minorticks_on()\n",
    "\n",
    "ax1.tick_params(axis=\"x\",direction=\"in\",which='both')\n",
    "ax1.tick_params(axis=\"y\",direction=\"in\",which='both')\n",
    "\n",
    "ax2.tick_params(axis=\"x\",direction=\"in\",which='both')\n",
    "ax2.tick_params(axis=\"y\",direction=\"in\",which='both')\n",
    "\n",
    "ax1.set_xlabel(r'$\\Delta \\rm G_{\\rm *OH}$ - $\\Delta \\rm G_{\\rm *OH}^{\\rm Pt(111)}$ (eV)')\n",
    "ax1.set_ylabel('Frequency')\n",
    "ax2.set_ylabel(r'ln(TOF / TOF$_{\\rm Pt(111)}$)',color = 'red')\n",
    "ax1.legend(loc='upper left',frameon=False)\n",
    "#plt.savefig('Activity_map.pdf', format='pdf',transparent = True,dpi=600)"
   ]
  },
  {
   "cell_type": "code",
   "execution_count": 5,
   "metadata": {},
   "outputs": [
    {
     "data": {
      "text/plain": [
       "Text(0.5, 0, 'Lattice constant $\\\\AA$')"
      ]
     },
     "execution_count": 5,
     "metadata": {},
     "output_type": "execute_result"
    },
    {
     "data": {
      "image/png": "[encoded data removed]",
      "text/plain": [
       "<Figure size 451.772x108.425 with 1 Axes>"
      ]
     },
     "metadata": {
      "needs_background": "light"
     },
     "output_type": "display_data"
    }
   ],
   "source": [
    "#Lattice constant distribution\n",
    "\n",
    "symbols = ['s','o','^','v','<','>','+','x','D','d'] # Symbol\n",
    "lps = [k+'-' for k in ['o','^','v','<','>','s','+','x','D','d']] # Line + Symbol\n",
    "colors= ['b','r','g','c','m','y','k','w'] # Color\n",
    "ms = 4\n",
    "ew = 1.5\n",
    "rcParams['figure.figsize'] = 2.5*1.5*1.67323,0.6*1.5*1.67323\n",
    "rcParams['ps.useafm'] = True\n",
    "plt.rc('font',**{'family':'sans-serif','sans-serif':['Helvetica']})\n",
    "\n",
    "rcParams['pdf.fonttype'] = 42\n",
    "matplotlib.rc('xtick.major', size=6)\n",
    "matplotlib.rc('xtick.minor', size=3)\n",
    "matplotlib.rc('ytick.major', size=6)\n",
    "matplotlib.rc('ytick.minor', size=3)\n",
    "matplotlib.rc('lines', markeredgewidth=0.5*2)\n",
    "matplotlib.rc('font', size=8*2.0)\n",
    "\n",
    "fig, ax1 = plt.subplots()\n",
    "\n",
    "reference_data = {'Co': {'d_cen': -1.5905, 'rd': 0.5605605605605606, 'dij': 2.45, 'Wd': 6.696932181}, \n",
    "                  'Ni': {'d_cen': -1.6686, 'rd': 0.5205205205205206, 'dij': 2.49, 'Wd': 5.354092732}, \n",
    "                  'Cu': {'d_cen': -2.6521, 'rd': 0.4904904904904905, 'dij': 2.58, 'Wd': 4.244656352}, \n",
    "                  'Pd': {'d_cen': -2.087, 'rd': 0.6706706706706707, 'dij': 2.79, 'Wd': 5.679312123}, \n",
    "                  'Pt': {'d_cen': -2.6369, 'rd': 0.7907907907907907, 'dij': 2.82, 'Wd': 7.638177581}}\n",
    "\n",
    "ax1.set_xlim([3.6,4.1])\n",
    "ax1.set_ylim([0,9])\n",
    "\n",
    "ax1.vlines(reference_data['Cu']['dij']*2**0.5,ymin=0,ymax=9,colors='goldenrod',linestyles='--',label = 'Cu',linewidth=2)\n",
    "ax1.vlines(reference_data['Pd']['dij']*2**0.5,ymin=0,ymax=9,colors='steelblue',linestyles='--',label = 'Pd',linewidth=2)\n",
    "ax1.vlines(reference_data['Pt']['dij']*2**0.5,ymin=0,ymax=9,colors='lightgray',linestyles='--',label = 'Pt',linewidth=2)\n",
    "\n",
    "ax1.vlines(3.7351,ymin=0,ymax=9,colors='black',linestyles='--',label = 'HEA',linewidth=2)\n",
    "\n",
    "ax1.set_yticks([])\n",
    "ax1.minorticks_on()\n",
    "\n",
    "ax1.tick_params(axis=\"x\",direction=\"in\",which='both')\n",
    "ax1.tick_params(axis=\"y\",direction=\"in\",which='both')\n",
    "\n",
    "ax1.spines['top'].set_visible(False)   \n",
    "ax1.spines['right'].set_visible(False) \n",
    "ax1.spines['left'].set_visible(False)\n",
    "\n",
    "ax1.set_xlabel(r'Lattice constant $\\AA$')\n",
    "#plt.savefig('lattice_distribution.pdf', format='pdf',transparent = True,dpi=600,bbox_inches='tight')"
   ]
  },
  {
   "cell_type": "code",
   "execution_count": 6,
   "metadata": {},
   "outputs": [
    {
     "name": "stderr",
     "output_type": "stream",
     "text": [
      "No handles with labels found to put in legend.\n"
     ]
    },
    {
     "data": {
      "text/plain": [
       "<matplotlib.legend.Legend at 0x11efd2748>"
      ]
     },
     "execution_count": 6,
     "metadata": {},
     "output_type": "execute_result"
    },
    {
     "data": {
      "image/png": "[encoded data removed]",
      "text/plain": [
       "<Figure size 397.559x361.418 with 1 Axes>"
      ]
     },
     "metadata": {
      "needs_background": "light"
     },
     "output_type": "display_data"
    }
   ],
   "source": [
    "#d-orbital radius (rd) distribution of Cu sites\n",
    "\n",
    "atoms = Trajectory('all_3x3_images.traj')\n",
    "\n",
    "nbr_idx_list = [19,20,22,28,29,30,32,33,34]\n",
    "\n",
    "Cu_rd_list = []\n",
    "Pd_rd_list = []\n",
    "Pt_rd_list = []\n",
    "\n",
    "for i in range(2000):\n",
    "    atom = atoms[i]\n",
    "    if atom[31].symbol == 'Cu':\n",
    "        tot_rd = 0\n",
    "        for idx in nbr_idx_list:\n",
    "            tot_rd += reference_data[atom[idx].symbol]['rd']\n",
    "        avg_rd = tot_rd/9\n",
    "        Cu_rd_list.append(avg_rd)\n",
    "        \n",
    "    elif atom[31].symbol == 'Pd':\n",
    "        tot_rd = 0\n",
    "        for idx in nbr_idx_list:\n",
    "            tot_rd += reference_data[atom[idx].symbol]['rd']\n",
    "        avg_rd = tot_rd/9\n",
    "        Pd_rd_list.append(avg_rd)\n",
    "        \n",
    "    elif atom[31].symbol == 'Pt':\n",
    "        tot_rd = 0\n",
    "        for idx in nbr_idx_list:\n",
    "            tot_rd += reference_data[atom[idx].symbol]['rd']\n",
    "        avg_rd = tot_rd/9\n",
    "        Pt_rd_list.append(avg_rd)\n",
    "\n",
    "symbols = ['s','o','^','v','<','>','+','x','D','d'] # Symbol\n",
    "lps = [k+'-' for k in ['o','^','v','<','>','s','+','x','D','d']] # Line + Symbol\n",
    "colors= ['b','r','g','c','m','y','k','w'] # Color\n",
    "ms = 4\n",
    "ew = 1.5\n",
    "rcParams['figure.figsize'] = 2.2*1.5*1.67323,2.0*1.5*1.67323\n",
    "rcParams['ps.useafm'] = True\n",
    "plt.rc('font',**{'family':'sans-serif','sans-serif':['Helvetica']})\n",
    "\n",
    "rcParams['pdf.fonttype'] = 42\n",
    "matplotlib.rc('xtick.major', size=6)\n",
    "matplotlib.rc('xtick.minor', size=3)\n",
    "matplotlib.rc('ytick.major', size=6)\n",
    "matplotlib.rc('ytick.minor', size=3)\n",
    "matplotlib.rc('lines', markeredgewidth=0.5*2)\n",
    "matplotlib.rc('font', size=10*2.0)\n",
    "\n",
    "fig, ax1 = plt.subplots()\n",
    "\n",
    "nn = len(Cu_rd_list)/100\n",
    "ax1.hist(Cu_rd_list,bins=30,alpha = 0.8,color='gray',weights=np.ones_like(Cu_rd_list)/nn)\n",
    "\n",
    "ax1.set_xlim([0.43,0.72])\n",
    "ax1.set_ylim([0,14])\n",
    "\n",
    "ax1.vlines(reference_data['Cu']['rd'],ymin=0,ymax=9,colors='goldenrod',linestyles='--',linewidth=3)\n",
    "\n",
    "plt.xticks([0.45,0.5,0.55,0.6,0.65,0.7])\n",
    "ax1.set_yticks([0,3,6,9,12])\n",
    "\n",
    "ax1.minorticks_on()\n",
    "\n",
    "ax1.tick_params(axis=\"x\",direction=\"in\",which='both')\n",
    "ax1.tick_params(axis=\"y\",direction=\"in\",which='both')\n",
    "\n",
    "\n",
    "ax1.set_xlabel(r'Average $r_d$ of first nearest neighbors')\n",
    "ax1.set_ylabel('Occurrence probability (%)')\n",
    "ax1.legend(loc='upper left',frameon=False)\n",
    "#plt.savefig('Cu_rd.pdf', format='pdf',transparent = True,dpi=600,bbox_inches='tight')"
   ]
  },
  {
   "cell_type": "code",
   "execution_count": 7,
   "metadata": {},
   "outputs": [
    {
     "name": "stderr",
     "output_type": "stream",
     "text": [
      "No handles with labels found to put in legend.\n"
     ]
    },
    {
     "data": {
      "text/plain": [
       "<matplotlib.legend.Legend at 0x11f82a5f8>"
      ]
     },
     "execution_count": 7,
     "metadata": {},
     "output_type": "execute_result"
    },
    {
     "data": {
      "image/png": "[encoded data removed]",
      "text/plain": [
       "<Figure size 397.559x361.418 with 1 Axes>"
      ]
     },
     "metadata": {
      "needs_background": "light"
     },
     "output_type": "display_data"
    }
   ],
   "source": [
    "#d-orbital radius (rd) distribution of Pd sites\n",
    "\n",
    "symbols = ['s','o','^','v','<','>','+','x','D','d'] # Symbol\n",
    "lps = [k+'-' for k in ['o','^','v','<','>','s','+','x','D','d']] # Line + Symbol\n",
    "colors= ['b','r','g','c','m','y','k','w'] # Color\n",
    "ms = 4\n",
    "ew = 1.5\n",
    "rcParams['figure.figsize'] = 2.2*1.5*1.67323,2.0*1.5*1.67323\n",
    "rcParams['ps.useafm'] = True\n",
    "plt.rc('font',**{'family':'sans-serif','sans-serif':['Helvetica']})\n",
    "\n",
    "rcParams['pdf.fonttype'] = 42\n",
    "matplotlib.rc('xtick.major', size=6)\n",
    "matplotlib.rc('xtick.minor', size=3)\n",
    "matplotlib.rc('ytick.major', size=6)\n",
    "matplotlib.rc('ytick.minor', size=3)\n",
    "matplotlib.rc('lines', markeredgewidth=0.5*2)\n",
    "matplotlib.rc('font', size=10*2.0)\n",
    "\n",
    "fig, ax1 = plt.subplots()\n",
    "\n",
    "nn = len(Pd_rd_list)/100\n",
    "ax1.hist(Pd_rd_list,bins=30,alpha = 0.8,color='gray',weights=np.ones_like(Pd_rd_list)/nn)\n",
    "\n",
    "ax1.set_xlim([0.47,0.72])\n",
    "ax1.set_ylim([0,16])\n",
    "\n",
    "ax1.vlines(reference_data['Pd']['rd'],ymin=0,ymax=9,colors='steelblue',linestyles='--',linewidth=3)\n",
    "\n",
    "plt.xticks([0.5,0.55,0.6,0.65,0.7])\n",
    "ax1.set_yticks([0,3,6,9,12,15])\n",
    "\n",
    "ax1.minorticks_on()\n",
    "\n",
    "ax1.tick_params(axis=\"x\",direction=\"in\",which='both')\n",
    "ax1.tick_params(axis=\"y\",direction=\"in\",which='both')\n",
    "\n",
    "\n",
    "ax1.set_xlabel(r'Average $r_d$ of first nearest neighbors')\n",
    "ax1.set_ylabel('Occurrence probability (%)')\n",
    "ax1.legend(loc='upper left',frameon=False)\n",
    "#plt.savefig('Pd_rd.pdf', format='pdf',transparent = True,dpi=600,bbox_inches='tight')"
   ]
  },
  {
   "cell_type": "code",
   "execution_count": 8,
   "metadata": {},
   "outputs": [
    {
     "name": "stderr",
     "output_type": "stream",
     "text": [
      "No handles with labels found to put in legend.\n"
     ]
    },
    {
     "data": {
      "text/plain": [
       "<matplotlib.legend.Legend at 0x11fdd7dd8>"
      ]
     },
     "execution_count": 8,
     "metadata": {},
     "output_type": "execute_result"
    },
    {
     "data": {
      "image/png": "[encoded data removed]",
      "text/plain": [
       "<Figure size 397.559x361.418 with 1 Axes>"
      ]
     },
     "metadata": {
      "needs_background": "light"
     },
     "output_type": "display_data"
    }
   ],
   "source": [
    "#d-orbital radius (rd) distribution of Pt sites\n",
    "\n",
    "symbols = ['s','o','^','v','<','>','+','x','D','d'] # Symbol\n",
    "lps = [k+'-' for k in ['o','^','v','<','>','s','+','x','D','d']] # Line + Symbol\n",
    "colors= ['b','r','g','c','m','y','k','w'] # Color\n",
    "ms = 4\n",
    "ew = 1.5\n",
    "rcParams['figure.figsize'] = 2.2*1.5*1.67323,2.0*1.5*1.67323\n",
    "rcParams['ps.useafm'] = True\n",
    "plt.rc('font',**{'family':'sans-serif','sans-serif':['Helvetica']})\n",
    "\n",
    "rcParams['pdf.fonttype'] = 42\n",
    "matplotlib.rc('xtick.major', size=6)\n",
    "matplotlib.rc('xtick.minor', size=3)\n",
    "matplotlib.rc('ytick.major', size=6)\n",
    "matplotlib.rc('ytick.minor', size=3)\n",
    "matplotlib.rc('lines', markeredgewidth=0.5*2)\n",
    "matplotlib.rc('font', size=10*2.0)\n",
    "\n",
    "fig, ax1 = plt.subplots()\n",
    "\n",
    "nn = len(Pt_rd_list)/100\n",
    "ax1.hist(Pt_rd_list,bins=30,alpha = 0.8,color='gray',weights=np.ones_like(Pt_rd_list)/nn)\n",
    "\n",
    "ax1.set_xlim([0.47,0.82])\n",
    "ax1.set_ylim([0,16])\n",
    "\n",
    "ax1.vlines(reference_data['Pt']['rd'],ymin=0,ymax=9,colors='lightgray',linestyles='--',linewidth=3)\n",
    "\n",
    "plt.xticks([0.5,0.55,0.6,0.65,0.7,0.75,0.8])\n",
    "ax1.set_yticks([0,3,6,9,12,15])\n",
    "\n",
    "ax1.minorticks_on()\n",
    "\n",
    "ax1.tick_params(axis=\"x\",direction=\"in\",which='both')\n",
    "ax1.tick_params(axis=\"y\",direction=\"in\",which='both')\n",
    "\n",
    "\n",
    "ax1.set_xlabel(r'Average $r_d$ of first nearest neighbors')\n",
    "ax1.set_ylabel('Occurrence probability (%)')\n",
    "ax1.legend(loc='upper left',frameon=False)\n",
    "#plt.savefig('Pt_rd.pdf', format='pdf',transparent = True,dpi=600,bbox_inches='tight')"
   ]
  },
  {
   "cell_type": "code",
   "execution_count": null,
   "metadata": {},
   "outputs": [],
   "source": []
  }
 ],
 "metadata": {
  "kernelspec": {
   "display_name": "Python 3",
   "language": "python",
   "name": "python3"
  },
  "language_info": {
   "codemirror_mode": {
    "name": "ipython",
    "version": 3
   },
   "file_extension": ".py",
   "mimetype": "text/x-python",
   "name": "python",
   "nbconvert_exporter": "python",
   "pygments_lexer": "ipython3",
   "version": "3.7.3"
  }
 },
 "nbformat": 4,
 "nbformat_minor": 2
}
